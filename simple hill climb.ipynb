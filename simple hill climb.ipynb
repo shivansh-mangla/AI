{
 "cells": [
  {
   "cell_type": "markdown",
   "id": "f3b25228",
   "metadata": {},
   "source": [
    "# HILL CLIMBING"
   ]
  },
  {
   "cell_type": "code",
   "execution_count": 3,
   "id": "0ffe69c4",
   "metadata": {},
   "outputs": [],
   "source": [
    "initial_state = [ [ 1, 2, 3 ],  \n",
    "            [ 5, 6, 0 ],  \n",
    "            [ 7, 8, 4 ] ]  \n",
    "\n",
    "final_state = [ [ 1, 2, 3 ],  \n",
    "        [ 5, 8, 6 ],  \n",
    "        [ 0, 7, 4 ] ]  \n",
    "\n",
    "# 0 is used to represent the blank tile"
   ]
  },
  {
   "cell_type": "code",
   "execution_count": 4,
   "id": "cdc59f9d",
   "metadata": {},
   "outputs": [],
   "source": [
    "def print_puzzle_state(state):\n",
    "    for row in state:\n",
    "        print(\"-----------------------------\")\n",
    "        for tile in row:\n",
    "            print(\"|   {}   |\".format(tile),end =\" \")\n",
    "        print()  # Move to the next line after each row\n",
    "    print(\"-----------------------------\\n\\n\")\n",
    "\n",
    "\n",
    "\n",
    "def find_zero_index(state):\n",
    "    for i in range(3):\n",
    "        for j in range(3):\n",
    "            if(state[i][j] == 0):\n",
    "                return (i,j)\n",
    "\n",
    "# MOVE BLANK LEFT - 1\n",
    "# MOVE BLANK RIGHT - 2\n",
    "# MOVE BLANK UP - 3\n",
    "# MOVE BLANK DOWN - 4\n",
    "\n",
    "def possible_moves(i,j):\n",
    "    # (i,j) is the index of zero(blank) tile\n",
    "    actions_domain = [1,2,3,4]\n",
    "    \n",
    "    if i==0:\n",
    "        #remove up\n",
    "        actions_domain.remove(3)\n",
    "    elif i==2:\n",
    "        #remove down\n",
    "        actions_domain.remove(4)\n",
    "    \n",
    "    if j==0:\n",
    "        #remove left\n",
    "        actions_domain.remove(1)\n",
    "    elif j==2:\n",
    "        #remove right\n",
    "        actions_domain.remove(2)\n",
    "    \n",
    "    return actions_domain\n",
    "    \n",
    "    \n",
    "    \n",
    "    \n",
    "import copy\n",
    "# MOVE BLANK LEFT - 1\n",
    "# MOVE BLANK RIGHT - 2\n",
    "# MOVE BLANK UP - 3\n",
    "# MOVE BLANK DOWN - 4\n",
    "\n",
    "def possible_state(state,move,i,j):\n",
    "    state_copy = copy.deepcopy(state)\n",
    "    if move == 1:\n",
    "        #left\n",
    "        state_copy[i][j] , state_copy[i][j-1] = state_copy[i][j-1] , state_copy[i][j]\n",
    "        \n",
    "    elif move == 2:\n",
    "        #right\n",
    "        state_copy[i][j] , state_copy[i][j+1] = state_copy[i][j+1] , state_copy[i][j]\n",
    "        \n",
    "    elif move == 3:\n",
    "        #up\n",
    "        state_copy[i][j] , state_copy[i-1][j] = state_copy[i-1][j] , state_copy[i][j]\n",
    "    \n",
    "    elif move == 4:\n",
    "        #down\n",
    "        state_copy[i][j] , state_copy[i+1][j] = state_copy[i+1][j] , state_copy[i][j]\n",
    "        \n",
    "    return state_copy\n",
    "    "
   ]
  },
  {
   "cell_type": "code",
   "execution_count": 5,
   "id": "5f09b10f",
   "metadata": {},
   "outputs": [],
   "source": [
    "def heuristic(state , goal):\n",
    "    #RETURNS THE NUMBER OF MISPLACED TILES\n",
    "    h = 0\n",
    "    for i in range(3):\n",
    "        for j in range(3):\n",
    "            if state[i][j] != goal[i][j]:\n",
    "                h = h+1          \n",
    "    return h"
   ]
  },
  {
   "cell_type": "code",
   "execution_count": 18,
   "id": "ea79f3f3",
   "metadata": {},
   "outputs": [],
   "source": [
    "def create_path(CLOSED):\n",
    "    for state_pair in CLOSED:\n",
    "        s = state_pair[0]\n",
    "        print_puzzle_state(s)"
   ]
  },
  {
   "cell_type": "code",
   "execution_count": 23,
   "id": "c145efdb",
   "metadata": {},
   "outputs": [],
   "source": [
    "OPEN = []\n",
    "CLOSED = []\n",
    "\n",
    "def simple_hill_climb(initial_state,goal_state):\n",
    "    OPEN = []\n",
    "    CLOSED = []\n",
    "    h = heuristic(initial_state , goal_state)\n",
    "    OPEN.append((initial_state,None,h))   # searchNode=(currentState,parentState, heuristicValue)\n",
    "    \n",
    "    while OPEN:\n",
    "        state_pair = OPEN.pop()\n",
    "        CLOSED.append(state_pair)\n",
    "        \n",
    "        state = state_pair[0] #child node only\n",
    "        old_h = state_pair[2] #heuristic value of current state\n",
    "        \n",
    "        if state == goal_state:\n",
    "            print(\"Goal state reached.\")\n",
    "            #print the path taken\n",
    "            my_path = create_path(CLOSED)\n",
    "            return True\n",
    "        \n",
    "        (i,j) = find_zero_index(state)  #stores the index of xero index in the current state\n",
    "        for move in possible_moves(i,j):\n",
    "            new_state = possible_state(state,move,i,j)\n",
    "            new_h = heuristic(new_state , goal_state)\n",
    "            if new_h < old_h: # heuristic needs to decrease\n",
    "                OPEN.append((new_state,state,new_h))\n",
    "                \n",
    "    print(\"Goal state not found\")\n",
    "    return False"
   ]
  },
  {
   "cell_type": "code",
   "execution_count": 22,
   "id": "d8bf4e82",
   "metadata": {},
   "outputs": [
    {
     "name": "stdout",
     "output_type": "stream",
     "text": [
      "Goal state reached.\n",
      "-----------------------------\n",
      "|   1   | |   2   | |   3   | \n",
      "-----------------------------\n",
      "|   5   | |   6   | |   0   | \n",
      "-----------------------------\n",
      "|   7   | |   8   | |   4   | \n",
      "-----------------------------\n",
      "\n",
      "\n",
      "-----------------------------\n",
      "|   1   | |   2   | |   3   | \n",
      "-----------------------------\n",
      "|   5   | |   0   | |   6   | \n",
      "-----------------------------\n",
      "|   7   | |   8   | |   4   | \n",
      "-----------------------------\n",
      "\n",
      "\n",
      "-----------------------------\n",
      "|   1   | |   2   | |   3   | \n",
      "-----------------------------\n",
      "|   5   | |   8   | |   6   | \n",
      "-----------------------------\n",
      "|   7   | |   0   | |   4   | \n",
      "-----------------------------\n",
      "\n",
      "\n",
      "-----------------------------\n",
      "|   1   | |   2   | |   3   | \n",
      "-----------------------------\n",
      "|   5   | |   8   | |   6   | \n",
      "-----------------------------\n",
      "|   0   | |   7   | |   4   | \n",
      "-----------------------------\n",
      "\n",
      "\n"
     ]
    },
    {
     "data": {
      "text/plain": [
       "True"
      ]
     },
     "execution_count": 22,
     "metadata": {},
     "output_type": "execute_result"
    }
   ],
   "source": [
    "simple_hill_climb(initial_state,final_state)"
   ]
  },
  {
   "cell_type": "code",
   "execution_count": null,
   "id": "0aaaac60",
   "metadata": {},
   "outputs": [],
   "source": []
  }
 ],
 "metadata": {
  "kernelspec": {
   "display_name": "Python 3 (ipykernel)",
   "language": "python",
   "name": "python3"
  },
  "language_info": {
   "codemirror_mode": {
    "name": "ipython",
    "version": 3
   },
   "file_extension": ".py",
   "mimetype": "text/x-python",
   "name": "python",
   "nbconvert_exporter": "python",
   "pygments_lexer": "ipython3",
   "version": "3.11.5"
  }
 },
 "nbformat": 4,
 "nbformat_minor": 5
}
