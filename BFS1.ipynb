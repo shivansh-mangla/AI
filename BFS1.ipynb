{
 "cells": [
  {
   "cell_type": "code",
   "execution_count": null,
   "id": "8816cb48",
   "metadata": {},
   "outputs": [],
   "source": []
  },
  {
   "cell_type": "code",
   "execution_count": 3,
   "id": "571d4c5d",
   "metadata": {},
   "outputs": [],
   "source": [
    "# RULES-\n",
    "# Blocks can be stacked on top of each other.\n",
    "# Only one block can be placed directly on top of another block.\n",
    "# To move a block that has other blocks stacked on top of it, you must first unstack the blocks above it until the desired block is free to move.\n",
    "# Blocks can also be placed directly on the table.\n",
    "\n",
    "    \n",
    "def actions(state):\n",
    "    possible_actions = []\n",
    "    if len(state[0]) > 0:\n",
    "        #There is at least one block on 1st\n",
    "        possible_actions.append(1)\n",
    "    \n",
    "    if len(state[1]) > 0:\n",
    "        #There is at least one block on 2nd\n",
    "        possible_actions.append(2)\n",
    "    \n",
    "    if len(state[2]) > 0:\n",
    "        #There is at least one block on 3rd\n",
    "        possible_actions.append(3)\n",
    "    \n",
    "    return possible_actions"
   ]
  },
  {
   "cell_type": "code",
   "execution_count": 4,
   "id": "ff7747f8",
   "metadata": {},
   "outputs": [],
   "source": [
    "## MOVEGEN-\n",
    "\n",
    "import copy\n",
    "\n",
    "def create_states(state,action):\n",
    "    state_copy1 = copy.deepcopy(state)\n",
    "    state_copy2 = copy.deepcopy(state)\n",
    "    \n",
    "    new_states = []\n",
    "    \n",
    "    if action == 1:\n",
    "        top_block = state_copy1[0].pop()\n",
    "        top_block = state_copy2[0].pop()\n",
    "        state_copy1[1].append(top_block)\n",
    "        state_copy2[2].append(top_block)\n",
    "        \n",
    "    elif action == 2:\n",
    "        top_block = state_copy1[1].pop()\n",
    "        top_block = state_copy2[1].pop()\n",
    "        state_copy1[0].append(top_block)\n",
    "        state_copy2[2].append(top_block)\n",
    "        \n",
    "    elif action == 3:\n",
    "        top_block = state_copy1[2].pop()\n",
    "        top_block = state_copy2[2].pop()\n",
    "        state_copy1[0].append(top_block)\n",
    "        state_copy2[1].append(top_block)\n",
    "        \n",
    "    new_states.append(state_copy1)\n",
    "    new_states.append(state_copy2)\n",
    "    \n",
    "    return new_states"
   ]
  },
  {
   "cell_type": "code",
   "execution_count": 5,
   "id": "83a5a14a",
   "metadata": {},
   "outputs": [],
   "source": [
    "def print_path(LIST):\n",
    "    for state in LIST:\n",
    "        print(state)"
   ]
  },
  {
   "cell_type": "code",
   "execution_count": 6,
   "id": "f1a07cbb",
   "metadata": {},
   "outputs": [],
   "source": [
    "def get_parent(state,LIST):\n",
    "    for (c,p) in LIST:\n",
    "        if state == c:\n",
    "            return p"
   ]
  },
  {
   "cell_type": "code",
   "execution_count": 7,
   "id": "da14a6e2",
   "metadata": {},
   "outputs": [],
   "source": [
    "def create_path(goal_state,CLOSED):\n",
    "    my_path = [goal_state]\n",
    "    \n",
    "    p = get_parent(goal_state,CLOSED)\n",
    "    while p != None:  #till we get to initial_state\n",
    "        my_path.append(p)\n",
    "        p = get_parent(p,CLOSED)\n",
    "        \n",
    "    return my_path"
   ]
  },
  {
   "cell_type": "code",
   "execution_count": 16,
   "id": "6abcfdb9",
   "metadata": {},
   "outputs": [],
   "source": [
    "def check_unique(OPEN , CLOSED , new_state):\n",
    "    my_list = list(OPEN) + CLOSED #merge both lists\n",
    "    for (child,parent) in my_list:\n",
    "        if set(tuple(element) for element in child) == set(tuple(element) for element in new_state):\n",
    "            return False\n",
    "        \n",
    "    return True"
   ]
  },
  {
   "cell_type": "code",
   "execution_count": 25,
   "id": "19541029",
   "metadata": {},
   "outputs": [],
   "source": [
    "from collections import deque #for QUEUE\n",
    "\n",
    "OPEN_queue = deque()\n",
    "CLOSED = []\n",
    "initial_state = [['A'],['B','C'],[]]\n",
    "goal_state = [['A','B','C'],[],[]]\n",
    "\n",
    "def bfs(initial_state,goal_state):\n",
    "    OPEN_queue = deque()\n",
    "    CLOSED = []\n",
    "    OPEN_queue.append((initial_state,None))\n",
    "    while(OPEN_queue):\n",
    "        \n",
    "        state_pair = OPEN_queue.popleft()  # contains (CHILD , PARENT) pair\n",
    "        CLOSED.append(state_pair)\n",
    "        #print(state_pair[0])\n",
    "        #prints all intermediate nodes\n",
    "        \n",
    "        state = state_pair[0] #child node only\n",
    "\n",
    "        if state == goal_state:\n",
    "            print(\"Goal state reached.\")\n",
    "            print('Printing the path :')\n",
    "            solution_path = create_path(goal_state,CLOSED)\n",
    "            print_path(solution_path)\n",
    "            return True\n",
    "\n",
    "        for action in actions(state):\n",
    "            new_states = create_states(state,action)\n",
    "            for new_state in new_states:\n",
    "                if check_unique(OPEN_queue , CLOSED , new_state):\n",
    "                    OPEN_queue.append((new_state,state))\n",
    "        \n",
    "    return False"
   ]
  },
  {
   "cell_type": "code",
   "execution_count": 26,
   "id": "7ae6a61f",
   "metadata": {},
   "outputs": [
    {
     "name": "stdout",
     "output_type": "stream",
     "text": [
      "Goal state reached.\n",
      "Printing the path :\n",
      "[['A', 'B', 'C'], [], []]\n",
      "[['A', 'B'], [], ['C']]\n",
      "[['A'], ['B'], ['C']]\n",
      "[['A'], ['B', 'C'], []]\n"
     ]
    },
    {
     "data": {
      "text/plain": [
       "True"
      ]
     },
     "execution_count": 26,
     "metadata": {},
     "output_type": "execute_result"
    }
   ],
   "source": [
    "bfs(initial_state,goal_state)"
   ]
  },
  {
   "cell_type": "code",
   "execution_count": null,
   "id": "fe47b350",
   "metadata": {},
   "outputs": [],
   "source": []
  }
 ],
 "metadata": {
  "kernelspec": {
   "display_name": "Python 3 (ipykernel)",
   "language": "python",
   "name": "python3"
  },
  "language_info": {
   "codemirror_mode": {
    "name": "ipython",
    "version": 3
   },
   "file_extension": ".py",
   "mimetype": "text/x-python",
   "name": "python",
   "nbconvert_exporter": "python",
   "pygments_lexer": "ipython3",
   "version": "3.11.5"
  }
 },
 "nbformat": 4,
 "nbformat_minor": 5
}
