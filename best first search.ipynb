{
 "cells": [
  {
   "cell_type": "code",
   "execution_count": 32,
   "id": "d3d9512d",
   "metadata": {},
   "outputs": [],
   "source": [
    "initial_state = [ [ 1, 2, 3 ],  \n",
    "            [ 5, 6, 0 ],  \n",
    "            [ 7, 8, 4 ] ]  \n",
    "\n",
    "final_state = [ [ 1, 2, 3 ],  \n",
    "        [ 5, 8, 6 ],  \n",
    "        [ 0, 7, 4 ] ]  \n",
    "\n",
    "# 0 is used to represent the blank tile"
   ]
  },
  {
   "cell_type": "code",
   "execution_count": 33,
   "id": "0ce24219",
   "metadata": {},
   "outputs": [],
   "source": [
    "def print_puzzle_state(state):\n",
    "    for row in state:\n",
    "        print(\"-----------------------------\")\n",
    "        for tile in row:\n",
    "            print(\"|   {}   |\".format(tile),end =\" \")\n",
    "        print()  # Move to the next line after each row\n",
    "    print(\"-----------------------------\\n\\n\")\n",
    "\n",
    "\n",
    "\n",
    "def find_zero_index(state):\n",
    "    for i in range(3):\n",
    "        for j in range(3):\n",
    "            if(state[i][j] == 0):\n",
    "                return (i,j)\n",
    "\n",
    "# MOVE BLANK LEFT - 1\n",
    "# MOVE BLANK RIGHT - 2\n",
    "# MOVE BLANK UP - 3\n",
    "# MOVE BLANK DOWN - 4\n",
    "\n",
    "def possible_moves(i,j):\n",
    "    # (i,j) is the index of zero(blank) tile\n",
    "    actions_domain = [1,2,3,4]\n",
    "    \n",
    "    if i==0:\n",
    "        #remove up\n",
    "        actions_domain.remove(3)\n",
    "    elif i==2:\n",
    "        #remove down\n",
    "        actions_domain.remove(4)\n",
    "    \n",
    "    if j==0:\n",
    "        #remove left\n",
    "        actions_domain.remove(1)\n",
    "    elif j==2:\n",
    "        #remove right\n",
    "        actions_domain.remove(2)\n",
    "    \n",
    "    return actions_domain\n",
    "    \n",
    "    \n",
    "    \n",
    "    \n",
    "import copy\n",
    "# MOVE BLANK LEFT - 1\n",
    "# MOVE BLANK RIGHT - 2\n",
    "# MOVE BLANK UP - 3\n",
    "# MOVE BLANK DOWN - 4\n",
    "\n",
    "def possible_state(state,move,i,j):\n",
    "    state_copy = copy.deepcopy(state)\n",
    "    if move == 1:\n",
    "        #left\n",
    "        state_copy[i][j] , state_copy[i][j-1] = state_copy[i][j-1] , state_copy[i][j]\n",
    "        \n",
    "    elif move == 2:\n",
    "        #right\n",
    "        state_copy[i][j] , state_copy[i][j+1] = state_copy[i][j+1] , state_copy[i][j]\n",
    "        \n",
    "    elif move == 3:\n",
    "        #up\n",
    "        state_copy[i][j] , state_copy[i-1][j] = state_copy[i-1][j] , state_copy[i][j]\n",
    "    \n",
    "    elif move == 4:\n",
    "        #down\n",
    "        state_copy[i][j] , state_copy[i+1][j] = state_copy[i+1][j] , state_copy[i][j]\n",
    "        \n",
    "    return state_copy\n",
    "    "
   ]
  },
  {
   "cell_type": "code",
   "execution_count": 34,
   "id": "dcabc3dd",
   "metadata": {},
   "outputs": [
    {
     "name": "stdout",
     "output_type": "stream",
     "text": [
      "-----------------------------\n",
      "|   1   | |   2   | |   3   | \n",
      "-----------------------------\n",
      "|   5   | |   0   | |   6   | \n",
      "-----------------------------\n",
      "|   7   | |   8   | |   4   | \n",
      "-----------------------------\n",
      "\n",
      "\n",
      "-----------------------------\n",
      "|   1   | |   2   | |   0   | \n",
      "-----------------------------\n",
      "|   5   | |   6   | |   3   | \n",
      "-----------------------------\n",
      "|   7   | |   8   | |   4   | \n",
      "-----------------------------\n",
      "\n",
      "\n",
      "-----------------------------\n",
      "|   1   | |   2   | |   3   | \n",
      "-----------------------------\n",
      "|   5   | |   6   | |   4   | \n",
      "-----------------------------\n",
      "|   7   | |   8   | |   0   | \n",
      "-----------------------------\n",
      "\n",
      "\n"
     ]
    }
   ],
   "source": [
    "i,j = find_zero_index(initial_state)\n",
    "my_list = []\n",
    "for move in possible_moves(i,j):\n",
    "    my_list.append(possible_state(initial_state,move,i,j))\n",
    "    \n",
    "print_puzzle_state(my_list[0])\n",
    "print_puzzle_state(my_list[1])\n",
    "print_puzzle_state(my_list[2])"
   ]
  },
  {
   "cell_type": "code",
   "execution_count": 35,
   "id": "3a5013fc",
   "metadata": {},
   "outputs": [],
   "source": [
    "def heuristic(state , goal):\n",
    "    #RETURNS THE NUMBER OF MISPLACED TILES\n",
    "    h = 0\n",
    "    for i in range(3):\n",
    "        for j in range(3):\n",
    "            if state[i][j] != goal[i][j]:\n",
    "                h = h+1\n",
    "                \n",
    "    return h"
   ]
  },
  {
   "cell_type": "code",
   "execution_count": 36,
   "id": "5713ce7a",
   "metadata": {},
   "outputs": [
    {
     "name": "stdout",
     "output_type": "stream",
     "text": [
      "4\n"
     ]
    }
   ],
   "source": [
    "print(heuristic(initial_state , final_state))"
   ]
  },
  {
   "cell_type": "code",
   "execution_count": 37,
   "id": "bc1a2271",
   "metadata": {},
   "outputs": [],
   "source": [
    "def check_unique(OPEN , CLOSED , new_state):\n",
    "    my_list = list(OPEN) + CLOSED #merge both lists\n",
    "    for (child,parent,depth) in my_list:\n",
    "        if set(tuple(element) for element in child) == set(tuple(element) for element in new_state):\n",
    "            return False\n",
    "        \n",
    "    return True\n",
    "\n",
    "def sort_by_third(list_of_tuples):\n",
    "    \"\"\"Sorts a list of tuples by the third element in each tuple.\n",
    "\n",
    "    Args:\n",
    "        list_of_tuples: The list to be sorted.\n",
    "\n",
    "    Returns:\n",
    "        A new list with the tuples sorted in ascending order by the third element.\n",
    "    \"\"\"\n",
    "\n",
    "    return sorted(list_of_tuples, key=lambda x: x[2])  # Sort based on third element (index 2)\n"
   ]
  },
  {
   "cell_type": "code",
   "execution_count": 38,
   "id": "cf57bd5a",
   "metadata": {},
   "outputs": [],
   "source": [
    "def get_parent(state,LIST):\n",
    "    for (c,p,d) in LIST:\n",
    "        if state == c:\n",
    "            return p\n",
    "        \n",
    "\n",
    "def create_path(goal_state,CLOSED):\n",
    "    my_path = [goal_state]\n",
    "    \n",
    "    p = get_parent(goal_state,CLOSED)\n",
    "    while p != None:  #till we get to initial_state\n",
    "        my_path.append(p)\n",
    "        p = get_parent(p,CLOSED)\n",
    "        \n",
    "    return my_path"
   ]
  },
  {
   "cell_type": "code",
   "execution_count": 39,
   "id": "8543144e",
   "metadata": {},
   "outputs": [],
   "source": [
    "OPEN = [] # used as a priority queue\n",
    "CLOSED = []\n",
    "\n",
    "def best_first_search(initial_state,goal_state):\n",
    "    OPEN = []\n",
    "    CLOSED = []\n",
    "    h = heuristic(initial_state , goal_state)\n",
    "    OPEN.append((initial_state,None,h))   # searchNode=(currentState,parentState, heuristicValue)\n",
    "    \n",
    "    while OPEN:\n",
    "        OPEN = sort_by_third(OPEN)  #FOR PRIORITY QUEUE\n",
    "        state_pair = OPEN.pop(0)\n",
    "        CLOSED.append(state_pair)\n",
    "        \n",
    "        state = state_pair[0] #child node only\n",
    "        h = state_pair[2] #heuristic value of current state\n",
    "        \n",
    "        if state == goal_state:\n",
    "            print(\"Goal state reached.\")\n",
    "            #print the path taken\n",
    "            my_path = create_path(goal_state,CLOSED)\n",
    "            for s in my_path:\n",
    "                print_puzzle_state(s)\n",
    "            return True\n",
    "        \n",
    "        (i,j) = find_zero_index(state)  #stores the index of xero index in the current state\n",
    "        for move in possible_moves(i,j):\n",
    "            new_state = possible_state(state,move,i,j)\n",
    "            if check_unique(OPEN , CLOSED , new_state):\n",
    "                new_h = heuristic(new_state , goal_state)\n",
    "                OPEN.append((new_state,state,new_h))\n",
    "                \n",
    "    print(\"Goal state not found\")\n",
    "    return False"
   ]
  },
  {
   "cell_type": "code",
   "execution_count": 40,
   "id": "e142c181",
   "metadata": {},
   "outputs": [],
   "source": [
    "initial_state = [ [ 1, 2, 3 ],  \n",
    "            [ 5, 6, 0 ],  \n",
    "            [ 7, 8, 4 ] ]  \n",
    "\n",
    "final_state = [ [ 1, 2, 3 ],  \n",
    "        [ 5, 8, 6 ],  \n",
    "        [ 0, 7, 4 ] ] "
   ]
  },
  {
   "cell_type": "code",
   "execution_count": 41,
   "id": "c06d3314",
   "metadata": {},
   "outputs": [
    {
     "name": "stdout",
     "output_type": "stream",
     "text": [
      "Goal state reached.\n",
      "-----------------------------\n",
      "|   1   | |   2   | |   3   | \n",
      "-----------------------------\n",
      "|   5   | |   8   | |   6   | \n",
      "-----------------------------\n",
      "|   0   | |   7   | |   4   | \n",
      "-----------------------------\n",
      "\n",
      "\n",
      "-----------------------------\n",
      "|   1   | |   2   | |   3   | \n",
      "-----------------------------\n",
      "|   5   | |   8   | |   6   | \n",
      "-----------------------------\n",
      "|   7   | |   0   | |   4   | \n",
      "-----------------------------\n",
      "\n",
      "\n",
      "-----------------------------\n",
      "|   1   | |   2   | |   3   | \n",
      "-----------------------------\n",
      "|   5   | |   0   | |   6   | \n",
      "-----------------------------\n",
      "|   7   | |   8   | |   4   | \n",
      "-----------------------------\n",
      "\n",
      "\n",
      "-----------------------------\n",
      "|   1   | |   2   | |   3   | \n",
      "-----------------------------\n",
      "|   5   | |   6   | |   0   | \n",
      "-----------------------------\n",
      "|   7   | |   8   | |   4   | \n",
      "-----------------------------\n",
      "\n",
      "\n"
     ]
    },
    {
     "data": {
      "text/plain": [
       "True"
      ]
     },
     "execution_count": 41,
     "metadata": {},
     "output_type": "execute_result"
    }
   ],
   "source": [
    "best_first_search(initial_state,final_state)"
   ]
  },
  {
   "cell_type": "code",
   "execution_count": null,
   "id": "a188351d",
   "metadata": {},
   "outputs": [],
   "source": []
  },
  {
   "cell_type": "code",
   "execution_count": null,
   "id": "233bc4e2",
   "metadata": {},
   "outputs": [],
   "source": []
  }
 ],
 "metadata": {
  "kernelspec": {
   "display_name": "Python 3 (ipykernel)",
   "language": "python",
   "name": "python3"
  },
  "language_info": {
   "codemirror_mode": {
    "name": "ipython",
    "version": 3
   },
   "file_extension": ".py",
   "mimetype": "text/x-python",
   "name": "python",
   "nbconvert_exporter": "python",
   "pygments_lexer": "ipython3",
   "version": "3.11.5"
  }
 },
 "nbformat": 4,
 "nbformat_minor": 5
}
