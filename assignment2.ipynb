{
  "nbformat": 4,
  "nbformat_minor": 0,
  "metadata": {
    "colab": {
      "provenance": []
    },
    "kernelspec": {
      "name": "python3",
      "display_name": "Python 3"
    },
    "language_info": {
      "name": "python"
    }
  },
  "cells": [
    {
      "cell_type": "markdown",
      "source": [
        "## ASSIGNMENT 1 SUBMITTED BY-\n",
        "## SHIVANSH MANGLA\n",
        "## 102203324\n",
        "## 2CO35"
      ],
      "metadata": {
        "id": "z854qaAVu_76"
      }
    },
    {
      "cell_type": "markdown",
      "source": [
        "## WATER JUG PROBLEM"
      ],
      "metadata": {
        "id": "cuqhUHr1sq-W"
      }
    },
    {
      "cell_type": "code",
      "source": [
        "max_A = 4 #max capacity of A\n",
        "max_B = 3 #max capacity of B\n",
        "\n",
        "initial_state = [0,0]  # water in A , B\n",
        "\n",
        "final_state = [2,0]\n",
        "import copy"
      ],
      "metadata": {
        "id": "QMF7oGNAsvnf"
      },
      "execution_count": 1,
      "outputs": []
    },
    {
      "cell_type": "code",
      "source": [
        "def isPossible(state):\n",
        "  if state[0] > max_A or state[1] > max_B:\n",
        "    return False;\n",
        "\n",
        "  if state[0] < 0 or state[1] < 0:\n",
        "    return False;\n",
        "\n",
        "  return True;"
      ],
      "metadata": {
        "id": "2fYIriv3tF3b"
      },
      "execution_count": 2,
      "outputs": []
    },
    {
      "cell_type": "code",
      "source": [
        "def emptyJug1(state):\n",
        "  state[0] = 0\n",
        "  return state\n",
        "\n",
        "def emptyJug2(state):\n",
        "  state[1] = 0\n",
        "  return state\n",
        "\n",
        "def fillFromPump1(state):\n",
        "  state[0] = max_A\n",
        "  return state\n",
        "\n",
        "def fillFromPump2(state):\n",
        "  state[1] = max_B\n",
        "  return state\n",
        "\n",
        "def transferInto1(state):\n",
        "  rem_cap1 = max_A - state[0]\n",
        "  if(state[1] > rem_cap1):\n",
        "    #2nd jug has more water than space left in 1st\n",
        "    state[0] = max_A\n",
        "    state[1] = state[1] - rem_cap1\n",
        "  else:\n",
        "    #emptying the whole 2nd jug into 1st\n",
        "    state[0] = state[0] + state[1]\n",
        "    state[1] = 0\n",
        "  return state\n",
        "\n",
        "def transferInto2(state):\n",
        "  rem_cap2 = max_B - state[1]\n",
        "  if(state[0] > rem_cap2):\n",
        "    #1st jug has more water than space left in 2nd\n",
        "    state[1] = max_B\n",
        "    state[0] = state[0] - rem_cap2\n",
        "  else:\n",
        "    #emptying the whole 1st jug into 2nd\n",
        "    state[1] = state[0] + state[1]\n",
        "    state[0] = 0\n",
        "  return state\n",
        "\n",
        "\n",
        "def nextStatesGenerator(state):\n",
        "  statesList = []\n",
        "\n",
        "  statesList.append(emptyJug1(state.copy()))\n",
        "  statesList.append(emptyJug2(state.copy()))\n",
        "  statesList.append(fillFromPump1(state.copy()))\n",
        "  statesList.append(fillFromPump2(state.copy()))\n",
        "  statesList.append(transferInto1(state.copy()))\n",
        "  statesList.append(transferInto2(state.copy()))\n",
        "\n",
        "  return statesList"
      ],
      "metadata": {
        "id": "JbZXGRPouVp6"
      },
      "execution_count": 6,
      "outputs": []
    },
    {
      "cell_type": "code",
      "source": [
        "def solve(initial_state, final_state):\n",
        "    open_list = []  # List to store states to explore (frontier)\n",
        "    closed_list = set()  # Set to store visited states to avoid loops\n",
        "    open_list.append(initial_state)\n",
        "\n",
        "    while open_list:\n",
        "        current_state = open_list.pop(0)  # Get the first state from the queue (BFS)\n",
        "        closed_list.add(tuple(current_state))  # Add current state to visited set (using tuple for hashability)\n",
        "\n",
        "        # Check if goal state is reached\n",
        "        if current_state == final_state:\n",
        "            print(\"Goal state reached yayyyy!!\")\n",
        "            return\n",
        "\n",
        "        # Generate all possible next states from the current state\n",
        "        for nextState in nextStatesGenerator(current_state):\n",
        "            # Check if next state is not already visited and add it to open list if not\n",
        "            if tuple(nextState) not in closed_list:\n",
        "                open_list.append(nextState)\n",
        "\n",
        "    # If loop exits without finding a solution\n",
        "    print(\"Goal state not found :-(\")\n",
        "    return"
      ],
      "metadata": {
        "id": "Uce8pry2ssfF"
      },
      "execution_count": 7,
      "outputs": []
    },
    {
      "cell_type": "code",
      "source": [
        "solve(initial_state,final_state)"
      ],
      "metadata": {
        "colab": {
          "base_uri": "https://localhost:8080/"
        },
        "id": "pwQp9N1565hx",
        "outputId": "0944400e-f1f3-4471-f6d8-c47bb402c9bc"
      },
      "execution_count": 8,
      "outputs": [
        {
          "output_type": "stream",
          "name": "stdout",
          "text": [
            "Goal state reached yayyyy!!\n"
          ]
        }
      ]
    },
    {
      "cell_type": "code",
      "source": [],
      "metadata": {
        "id": "Po615RtA6-ku"
      },
      "execution_count": 21,
      "outputs": []
    },
    {
      "cell_type": "code",
      "source": [],
      "metadata": {
        "id": "LX3NjGdw7-y2"
      },
      "execution_count": null,
      "outputs": []
    },
    {
      "cell_type": "code",
      "source": [],
      "metadata": {
        "id": "4GKwDJty7-tr"
      },
      "execution_count": null,
      "outputs": []
    },
    {
      "cell_type": "code",
      "source": [],
      "metadata": {
        "id": "7aN3puzP7-rK"
      },
      "execution_count": null,
      "outputs": []
    },
    {
      "cell_type": "code",
      "source": [],
      "metadata": {
        "id": "NZa9Pw7X7-hK"
      },
      "execution_count": null,
      "outputs": []
    },
    {
      "cell_type": "code",
      "source": [],
      "metadata": {
        "id": "r0XFo7OV7-ea"
      },
      "execution_count": null,
      "outputs": []
    },
    {
      "cell_type": "markdown",
      "source": [
        "# TRAVELLING SALESMAN PROBLEM"
      ],
      "metadata": {
        "id": "DAi32pNj8Uqi"
      }
    },
    {
      "cell_type": "code",
      "source": [],
      "metadata": {
        "id": "KW4KA9dZ8Xt_"
      },
      "execution_count": null,
      "outputs": []
    },
    {
      "cell_type": "code",
      "source": [
        "adjList = {\n",
        "    1 : [(2,10) ,(3,15) ,(4,20)],\n",
        "    2 : [(1,10) ,(3,35) ,(4,25)],\n",
        "    3 : [(1,15) ,(2,35) ,(4,30)],\n",
        "    4 : [(1,20) ,(2,25) ,(3,30)]\n",
        "}\n",
        "\n",
        "# Initialize visited array and path list\n",
        "visited = [False]\n",
        "for i in range(len(adjList)):\n",
        "  visited.append(False)\n",
        "\n",
        "path = []\n",
        "\n",
        "starting_node = 1\n",
        "\n",
        "def dfs(node, visited, cost, path):\n",
        "    # Mark the current node as visited\n",
        "    visited[node] = True\n",
        "    path.append(node)\n",
        "\n",
        "    # If all nodes are visited, we return to the starting node and add the cost to it\n",
        "    if len(path) == len(adjList):\n",
        "        cost += adjList[node][starting_node - 1][1]\n",
        "        print(path, cost)\n",
        "        # Backtrack to find other possible paths\n",
        "        path.pop()\n",
        "        visited[node] = False\n",
        "        return\n",
        "\n",
        "    # Recur for all the nodes adjacent to this node\n",
        "    for neighbor, weight in adjList[node]:\n",
        "        if not visited[neighbor]:\n",
        "            dfs(neighbor, visited, cost + weight, path)\n",
        "\n",
        "    # Mark the current node as not visited\n",
        "    visited[node] = False\n",
        "    path.pop()\n"
      ],
      "metadata": {
        "id": "NO_IBNUB9Zlv"
      },
      "execution_count": 9,
      "outputs": []
    },
    {
      "cell_type": "code",
      "source": [
        "# Start DFS from the starting node\n",
        "dfs(starting_node, visited, 0, path)"
      ],
      "metadata": {
        "colab": {
          "base_uri": "https://localhost:8080/"
        },
        "id": "AbSK0pt8k8Nr",
        "outputId": "2ad6c0a3-a616-40f9-dcce-9ed4012f64b5"
      },
      "execution_count": 10,
      "outputs": [
        {
          "output_type": "stream",
          "name": "stdout",
          "text": [
            "[1, 2, 3, 4] 95\n",
            "[1, 2, 4, 3] 80\n",
            "[1, 3, 2, 4] 95\n",
            "[1, 3, 4, 2] 80\n",
            "[1, 4, 2, 3] 95\n",
            "[1, 4, 3, 2] 95\n"
          ]
        }
      ]
    },
    {
      "cell_type": "code",
      "source": [],
      "metadata": {
        "id": "XgLeVfcotpqM"
      },
      "execution_count": null,
      "outputs": []
    },
    {
      "cell_type": "markdown",
      "source": [],
      "metadata": {
        "id": "axglcixDu9Wg"
      }
    }
  ]
}