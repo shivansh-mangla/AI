{
 "cells": [
  {
   "cell_type": "code",
   "execution_count": 1,
   "id": "939e0df5",
   "metadata": {},
   "outputs": [],
   "source": [
    "# RULES-\n",
    "# Blocks can be stacked on top of each other.\n",
    "# Only one block can be placed directly on top of another block.\n",
    "# To move a block that has other blocks stacked on top of it, you must first unstack the blocks above it until the desired block is free to move.\n",
    "# Blocks can also be placed directly on the table.\n",
    "\n",
    "    \n",
    "def actions(state):\n",
    "    possible_actions = []\n",
    "    if len(state[0]) > 0:\n",
    "        #There is at least one block on 1st\n",
    "        possible_actions.append(1)\n",
    "    \n",
    "    if len(state[1]) > 0:\n",
    "        #There is at least one block on 2nd\n",
    "        possible_actions.append(2)\n",
    "    \n",
    "    if len(state[2]) > 0:\n",
    "        #There is at least one block on 3rd\n",
    "        possible_actions.append(3)\n",
    "    \n",
    "    return possible_actions"
   ]
  },
  {
   "cell_type": "code",
   "execution_count": 7,
   "id": "3bf173f6",
   "metadata": {},
   "outputs": [],
   "source": [
    "## MOVEGEN-\n",
    "\n",
    "import copy\n",
    "\n",
    "def create_states(state,action):\n",
    "    state_copy1 = copy.deepcopy(state)\n",
    "    state_copy2 = copy.deepcopy(state)\n",
    "    \n",
    "    new_states = []\n",
    "    \n",
    "    if action == 1:\n",
    "        top_block = state_copy1[0].pop()\n",
    "        top_block = state_copy2[0].pop()\n",
    "        state_copy1[1].append(top_block)\n",
    "        state_copy2[2].append(top_block)\n",
    "        \n",
    "    elif action == 2:\n",
    "        top_block = state_copy1[1].pop()\n",
    "        top_block = state_copy2[1].pop()\n",
    "        state_copy1[0].append(top_block)\n",
    "        state_copy2[2].append(top_block)\n",
    "        \n",
    "    elif action == 3:\n",
    "        top_block = state_copy1[2].pop()\n",
    "        top_block = state_copy2[2].pop()\n",
    "        state_copy1[0].append(top_block)\n",
    "        state_copy2[1].append(top_block)\n",
    "        \n",
    "    new_states.append(state_copy1)\n",
    "    new_states.append(state_copy2)\n",
    "    \n",
    "    return new_states"
   ]
  },
  {
   "cell_type": "code",
   "execution_count": 10,
   "id": "9932d6ef",
   "metadata": {},
   "outputs": [],
   "source": [
    "OPEN_stack = []\n",
    "CLOSED = []\n",
    "initial_state = [['A'],['B','C'],[]]\n",
    "goal_state = [['A','B','C'],[],[]]\n",
    "\n",
    "def dfs1(initial_state,goal_state):\n",
    "    OPEN_stack = []\n",
    "    CLOSED = [initial_state]\n",
    "    OPEN_stack.append(initial_state)\n",
    "    while(OPEN_stack):\n",
    "        \n",
    "        state = OPEN_stack.pop()\n",
    "        print(state)\n",
    "        #prints all intermediate nodes\n",
    "\n",
    "        if state == goal_state:\n",
    "            print(\"Goal state reached.\")\n",
    "            return True\n",
    "\n",
    "        for action in actions(state):\n",
    "            new_states = create_states(state,action)\n",
    "            for new_state in new_states:\n",
    "                if(new_state not in CLOSED):\n",
    "                    OPEN_stack.append(new_state)\n",
    "                    CLOSED.append(new_state)\n",
    "        \n",
    "    return False"
   ]
  },
  {
   "cell_type": "code",
   "execution_count": 11,
   "id": "e0cf47ec",
   "metadata": {},
   "outputs": [
    {
     "name": "stdout",
     "output_type": "stream",
     "text": [
      "[['A'], ['B', 'C'], []]\n",
      "[['A'], ['B'], ['C']]\n",
      "[['A'], [], ['C', 'B']]\n",
      "[[], [], ['C', 'B', 'A']]\n",
      "[[], ['A'], ['C', 'B']]\n",
      "[[], ['A', 'B'], ['C']]\n",
      "[[], ['A', 'B', 'C'], []]\n",
      "[['C'], ['A', 'B'], []]\n",
      "[['C'], ['A'], ['B']]\n",
      "[['C'], [], ['B', 'A']]\n",
      "[[], [], ['B', 'A', 'C']]\n",
      "[[], ['C'], ['B', 'A']]\n",
      "[[], ['C', 'A'], ['B']]\n",
      "[[], ['C', 'A', 'B'], []]\n",
      "[['B'], ['C', 'A'], []]\n",
      "[['B'], ['C'], ['A']]\n",
      "[['B'], [], ['A', 'C']]\n",
      "[[], [], ['A', 'C', 'B']]\n",
      "[[], ['B'], ['A', 'C']]\n",
      "[['C'], ['B'], ['A']]\n",
      "[['C'], ['B', 'A'], []]\n",
      "[[], ['B', 'A', 'C'], []]\n",
      "[['C', 'A'], ['B'], []]\n",
      "[['C', 'A', 'B'], [], []]\n",
      "[['C'], [], ['A', 'B']]\n",
      "[[], [], ['A', 'B', 'C']]\n",
      "[['C', 'B'], [], ['A']]\n",
      "[['C', 'B', 'A'], [], []]\n",
      "[['B', 'C'], [], ['A']]\n",
      "[['B', 'C'], ['A'], []]\n",
      "[['B'], ['A', 'C'], []]\n",
      "[[], ['A', 'C', 'B'], []]\n",
      "[['B', 'C', 'A'], [], []]\n",
      "[[], ['C'], ['A', 'B']]\n",
      "[[], ['C', 'B'], ['A']]\n",
      "[[], ['C', 'B', 'A'], []]\n",
      "[['A'], ['C', 'B'], []]\n",
      "[['A', 'B'], ['C'], []]\n",
      "[['A', 'B', 'C'], [], []]\n",
      "Goal state reached.\n"
     ]
    },
    {
     "data": {
      "text/plain": [
       "True"
      ]
     },
     "execution_count": 11,
     "metadata": {},
     "output_type": "execute_result"
    }
   ],
   "source": [
    "dfs1(initial_state,goal_state)"
   ]
  },
  {
   "cell_type": "markdown",
   "id": "b5921ebd",
   "metadata": {},
   "source": [
    "### OUR DFS1 DOESNT IMPLEMENT CLOSED AND OPEN WITH (CHILD,PARENT) , THEREFORE IT DOESNT BACKTRACK FOR THE PATH....\n",
    "#### THEREFORE WE NOW IMPLEMENT DFS2"
   ]
  },
  {
   "cell_type": "code",
   "execution_count": 19,
   "id": "4bbc2d4b",
   "metadata": {},
   "outputs": [],
   "source": [
    "OPEN_stack = []\n",
    "CLOSED = []\n",
    "initial_state = [['A'],['B','C'],[]]\n",
    "goal_state = [['A','B','C'],[],[]]\n",
    "\n",
    "def dfs2(initial_state,goal_state):\n",
    "    OPEN_stack = []\n",
    "    CLOSED = []\n",
    "    OPEN_stack.append((initial_state,None))\n",
    "    while(OPEN_stack):\n",
    "        \n",
    "        state_pair = OPEN_stack.pop()  # contains (CHILD , PARENT) pair\n",
    "        CLOSED.append(state_pair)\n",
    "        print(state_pair[0])\n",
    "        #prints all intermediate nodes\n",
    "        \n",
    "        state = state_pair[0] #child node only\n",
    "\n",
    "        if state == goal_state:\n",
    "            print(\"Goal state reached.\")\n",
    "            return True\n",
    "\n",
    "        for action in actions(state):\n",
    "            new_states = create_states(state,action)\n",
    "            for new_state in new_states:\n",
    "                if check_unique(OPEN_stack , CLOSED , new_state):\n",
    "                    OPEN_stack.append((new_state,state))\n",
    "        \n",
    "    return False"
   ]
  },
  {
   "cell_type": "code",
   "execution_count": 20,
   "id": "0bc31fb6",
   "metadata": {},
   "outputs": [],
   "source": [
    "def check_unique(OPEN , CLOSED , new_state):\n",
    "    my_list = OPEN + CLOSED #merge both lists\n",
    "    for (child,parent) in my_list:\n",
    "        if child == new_state:\n",
    "            return False\n",
    "        \n",
    "    return True"
   ]
  },
  {
   "cell_type": "code",
   "execution_count": 21,
   "id": "0b113e12",
   "metadata": {},
   "outputs": [
    {
     "name": "stdout",
     "output_type": "stream",
     "text": [
      "[['A'], ['B', 'C'], []]\n",
      "[['A'], ['B'], ['C']]\n",
      "[['A'], [], ['C', 'B']]\n",
      "[[], [], ['C', 'B', 'A']]\n",
      "[[], ['A'], ['C', 'B']]\n",
      "[[], ['A', 'B'], ['C']]\n",
      "[[], ['A', 'B', 'C'], []]\n",
      "[['C'], ['A', 'B'], []]\n",
      "[['C'], ['A'], ['B']]\n",
      "[['C'], [], ['B', 'A']]\n",
      "[[], [], ['B', 'A', 'C']]\n",
      "[[], ['C'], ['B', 'A']]\n",
      "[[], ['C', 'A'], ['B']]\n",
      "[[], ['C', 'A', 'B'], []]\n",
      "[['B'], ['C', 'A'], []]\n",
      "[['B'], ['C'], ['A']]\n",
      "[['B'], [], ['A', 'C']]\n",
      "[[], [], ['A', 'C', 'B']]\n",
      "[[], ['B'], ['A', 'C']]\n",
      "[['C'], ['B'], ['A']]\n",
      "[['C'], ['B', 'A'], []]\n",
      "[[], ['B', 'A', 'C'], []]\n",
      "[['C', 'A'], ['B'], []]\n",
      "[['C', 'A', 'B'], [], []]\n",
      "[['C'], [], ['A', 'B']]\n",
      "[[], [], ['A', 'B', 'C']]\n",
      "[['C', 'B'], [], ['A']]\n",
      "[['C', 'B', 'A'], [], []]\n",
      "[['B', 'C'], [], ['A']]\n",
      "[['B', 'C'], ['A'], []]\n",
      "[['B'], ['A', 'C'], []]\n",
      "[[], ['A', 'C', 'B'], []]\n",
      "[['B', 'C', 'A'], [], []]\n",
      "[[], ['C'], ['A', 'B']]\n",
      "[[], ['C', 'B'], ['A']]\n",
      "[[], ['C', 'B', 'A'], []]\n",
      "[['A'], ['C', 'B'], []]\n",
      "[['A', 'B'], ['C'], []]\n",
      "[['A', 'B', 'C'], [], []]\n",
      "Goal state reached.\n"
     ]
    },
    {
     "data": {
      "text/plain": [
       "True"
      ]
     },
     "execution_count": 21,
     "metadata": {},
     "output_type": "execute_result"
    }
   ],
   "source": [
    "dfs2(initial_state,goal_state)"
   ]
  },
  {
   "cell_type": "markdown",
   "id": "34b4cd70",
   "metadata": {},
   "source": [
    "### (CHILD,PARENT) HAS BEEN IMPLEMENTED. NOW WE WILL IMPLEMENT BACKTRACKING FOR THE SOLUTION PATH."
   ]
  },
  {
   "cell_type": "code",
   "execution_count": 38,
   "id": "1f0ad6e8",
   "metadata": {},
   "outputs": [],
   "source": [
    "OPEN_stack = []\n",
    "CLOSED = []\n",
    "initial_state = [['A'],['B','C'],[]]\n",
    "goal_state = [['A','B','C'],[],[]]\n",
    "\n",
    "def dfs2(initial_state,goal_state):\n",
    "    OPEN_stack = []\n",
    "    CLOSED = []\n",
    "    OPEN_stack.append((initial_state,None))\n",
    "    while(OPEN_stack):\n",
    "        \n",
    "        state_pair = OPEN_stack.pop()  # contains (CHILD , PARENT) pair\n",
    "        CLOSED.append(state_pair)\n",
    "        #print(state_pair[0])\n",
    "        #prints all intermediate nodes\n",
    "        \n",
    "        state = state_pair[0] #child node only\n",
    "\n",
    "        if state == goal_state:\n",
    "            print(\"Goal state reached.\")\n",
    "            solution_path = create_path(goal_state,CLOSED)\n",
    "            print_path(solution_path)\n",
    "            return True\n",
    "\n",
    "        for action in actions(state):\n",
    "            new_states = create_states(state,action)\n",
    "            for new_state in new_states:\n",
    "                if check_unique(OPEN_stack , CLOSED , new_state):\n",
    "                    OPEN_stack.append((new_state,state))\n",
    "        \n",
    "    return False"
   ]
  },
  {
   "cell_type": "code",
   "execution_count": 39,
   "id": "9046d6ba",
   "metadata": {},
   "outputs": [],
   "source": [
    "def create_path(goal_state,CLOSED):\n",
    "    my_path = [goal_state]\n",
    "    \n",
    "    p = get_parent(goal_state,CLOSED)\n",
    "    while p != None:  #till we get to initial_state\n",
    "        my_path.append(p)\n",
    "        p = get_parent(p,CLOSED)\n",
    "        \n",
    "    return my_path"
   ]
  },
  {
   "cell_type": "code",
   "execution_count": 40,
   "id": "17917605",
   "metadata": {},
   "outputs": [],
   "source": [
    "def get_parent(state,LIST):\n",
    "    for (c,p) in LIST:\n",
    "        if state == c:\n",
    "            return p"
   ]
  },
  {
   "cell_type": "code",
   "execution_count": 41,
   "id": "6b9189d7",
   "metadata": {},
   "outputs": [],
   "source": [
    "def print_path(LIST):\n",
    "    for state in LIST:\n",
    "        print(state)"
   ]
  },
  {
   "cell_type": "code",
   "execution_count": 42,
   "id": "02580e3f",
   "metadata": {},
   "outputs": [
    {
     "name": "stdout",
     "output_type": "stream",
     "text": [
      "Goal state reached.\n",
      "[['A', 'B', 'C'], [], []]\n",
      "[['A', 'B'], ['C'], []]\n",
      "[['A'], ['C', 'B'], []]\n",
      "[[], ['C', 'B'], ['A']]\n",
      "[['B'], ['C'], ['A']]\n",
      "[['B'], ['C', 'A'], []]\n",
      "[[], ['C', 'A'], ['B']]\n",
      "[[], ['C'], ['B', 'A']]\n",
      "[['C'], [], ['B', 'A']]\n",
      "[['C'], ['A'], ['B']]\n",
      "[['C'], ['A', 'B'], []]\n",
      "[[], ['A', 'B'], ['C']]\n",
      "[[], ['A'], ['C', 'B']]\n",
      "[['A'], [], ['C', 'B']]\n",
      "[['A'], ['B'], ['C']]\n",
      "[['A'], ['B', 'C'], []]\n"
     ]
    },
    {
     "data": {
      "text/plain": [
       "True"
      ]
     },
     "execution_count": 42,
     "metadata": {},
     "output_type": "execute_result"
    }
   ],
   "source": [
    "dfs2(initial_state,goal_state)"
   ]
  },
  {
   "cell_type": "markdown",
   "id": "30e5b4b4",
   "metadata": {},
   "source": [
    "### WE ARE FACING A PROBLEM RIGHT NOW-\n",
    "### [['A'], ['B'], ['C']] AND [['B'], ['C'], ['A']] ARE TREATED AS DIFFERENT STATES.\n",
    "#### THIS SHOULD NOT HAPPEN FOR THE WORD BLOCKS PROBLEM"
   ]
  },
  {
   "cell_type": "code",
   "execution_count": 47,
   "id": "8f08d133",
   "metadata": {},
   "outputs": [],
   "source": [
    "def check_unique(OPEN , CLOSED , new_state):\n",
    "    my_list = OPEN + CLOSED #merge both lists\n",
    "    for (child,parent) in my_list:\n",
    "        if set(tuple(element) for element in child) == set(tuple(element) for element in new_state):\n",
    "            return False\n",
    "        \n",
    "    return True"
   ]
  },
  {
   "cell_type": "code",
   "execution_count": 48,
   "id": "f4939a0b",
   "metadata": {},
   "outputs": [
    {
     "name": "stdout",
     "output_type": "stream",
     "text": [
      "Goal state reached.\n",
      "[['A', 'B', 'C'], [], []]\n",
      "[['A', 'B'], [], ['C']]\n",
      "[['A'], ['B'], ['C']]\n",
      "[['A'], ['B', 'C'], []]\n"
     ]
    },
    {
     "data": {
      "text/plain": [
       "True"
      ]
     },
     "execution_count": 48,
     "metadata": {},
     "output_type": "execute_result"
    }
   ],
   "source": [
    "dfs2(initial_state,goal_state)"
   ]
  },
  {
   "cell_type": "markdown",
   "id": "a27958fb",
   "metadata": {},
   "source": [
    "# FINAL DFS CODE-"
   ]
  },
  {
   "cell_type": "code",
   "execution_count": 76,
   "id": "13848f1e",
   "metadata": {},
   "outputs": [],
   "source": [
    "# RULES-\n",
    "# Blocks can be stacked on top of each other.\n",
    "# Only one block can be placed directly on top of another block.\n",
    "# To move a block that has other blocks stacked on top of it, you must first unstack the blocks above it until the desired block is free to move.\n",
    "# Blocks can also be placed directly on the table.\n",
    "\n",
    "    \n",
    "def actions(state):\n",
    "    possible_actions = []\n",
    "    if len(state[0]) > 0:\n",
    "        #There is at least one block on 1st\n",
    "        possible_actions.append(1)\n",
    "    \n",
    "    if len(state[1]) > 0:\n",
    "        #There is at least one block on 2nd\n",
    "        possible_actions.append(2)\n",
    "    \n",
    "    if len(state[2]) > 0:\n",
    "        #There is at least one block on 3rd\n",
    "        possible_actions.append(3)\n",
    "    \n",
    "    return possible_actions\n",
    "\n",
    "\n",
    "## MOVEGEN-\n",
    "\n",
    "import copy\n",
    "\n",
    "def create_states(state,action):\n",
    "    state_copy1 = copy.deepcopy(state)\n",
    "    state_copy2 = copy.deepcopy(state)\n",
    "    \n",
    "    new_states = []\n",
    "    \n",
    "    if action == 1:\n",
    "        top_block = state_copy1[0].pop()\n",
    "        top_block = state_copy2[0].pop()\n",
    "        state_copy1[1].append(top_block)\n",
    "        state_copy2[2].append(top_block)\n",
    "        \n",
    "    elif action == 2:\n",
    "        top_block = state_copy1[1].pop()\n",
    "        top_block = state_copy2[1].pop()\n",
    "        state_copy1[0].append(top_block)\n",
    "        state_copy2[2].append(top_block)\n",
    "        \n",
    "    elif action == 3:\n",
    "        top_block = state_copy1[2].pop()\n",
    "        top_block = state_copy2[2].pop()\n",
    "        state_copy1[0].append(top_block)\n",
    "        state_copy2[1].append(top_block)\n",
    "        \n",
    "    new_states.append(state_copy1)\n",
    "    new_states.append(state_copy2)\n",
    "    \n",
    "    return new_states\n",
    "\n",
    "def print_path(LIST):\n",
    "    for state in LIST:\n",
    "        print(state)\n",
    "        \n",
    "def get_parent(state,LIST):\n",
    "    for (c,p) in LIST:\n",
    "        if state == c:\n",
    "            return p\n",
    "        \n",
    "        \n",
    "def create_path(goal_state,CLOSED):\n",
    "    my_path = [goal_state]\n",
    "    \n",
    "    p = get_parent(goal_state,CLOSED)\n",
    "    while p != None:  #till we get to initial_state\n",
    "        my_path.append(p)\n",
    "        p = get_parent(p,CLOSED)\n",
    "        \n",
    "    return my_path\n",
    "\n",
    "def check_unique(OPEN , CLOSED , new_state):\n",
    "    my_list = list(OPEN) + CLOSED #merge both lists\n",
    "    for (child,parent) in my_list:\n",
    "        if set(tuple(element) for element in child) == set(tuple(element) for element in new_state):\n",
    "            return False\n",
    "        \n",
    "    return True"
   ]
  },
  {
   "cell_type": "code",
   "execution_count": 77,
   "id": "381d10fd",
   "metadata": {},
   "outputs": [],
   "source": [
    "from collections import deque #for STACK\n",
    "\n",
    "OPEN_stack = deque()\n",
    "CLOSED = []\n",
    "initial_state = [['A'],['B','C'],[]]\n",
    "goal_state = [['A','B','C'],[],[]]\n",
    "\n",
    "def dfs2(initial_state,goal_state):\n",
    "    OPEN_stack = deque()\n",
    "    CLOSED = []\n",
    "    OPEN_stack.append((initial_state,None))\n",
    "    while(OPEN_stack):\n",
    "        \n",
    "        state_pair = OPEN_stack.pop()  # contains (CHILD , PARENT) pair\n",
    "        CLOSED.append(state_pair)\n",
    "        #print(state_pair[0])\n",
    "        #prints all intermediate nodes\n",
    "        \n",
    "        state = state_pair[0] #child node only\n",
    "\n",
    "        if state == goal_state:\n",
    "            print(\"Goal state reached.\")\n",
    "            solution_path = create_path(goal_state,CLOSED)\n",
    "            print_path(solution_path)\n",
    "            return True\n",
    "\n",
    "        for action in actions(state):\n",
    "            new_states = create_states(state,action)\n",
    "            for new_state in new_states:\n",
    "                if check_unique(OPEN_stack , CLOSED , new_state):\n",
    "                    OPEN_stack.append((new_state,state))\n",
    "        \n",
    "    return False"
   ]
  },
  {
   "cell_type": "code",
   "execution_count": 78,
   "id": "d16e5922",
   "metadata": {},
   "outputs": [
    {
     "name": "stdout",
     "output_type": "stream",
     "text": [
      "Goal state reached.\n",
      "[['A', 'B', 'C'], [], []]\n",
      "[['A', 'B'], [], ['C']]\n",
      "[['A'], ['B'], ['C']]\n",
      "[['A'], ['B', 'C'], []]\n"
     ]
    },
    {
     "data": {
      "text/plain": [
       "True"
      ]
     },
     "execution_count": 78,
     "metadata": {},
     "output_type": "execute_result"
    }
   ],
   "source": [
    "dfs2(initial_state,goal_state)"
   ]
  },
  {
   "cell_type": "code",
   "execution_count": null,
   "id": "b6a7997f",
   "metadata": {},
   "outputs": [],
   "source": []
  }
 ],
 "metadata": {
  "kernelspec": {
   "display_name": "Python 3 (ipykernel)",
   "language": "python",
   "name": "python3"
  },
  "language_info": {
   "codemirror_mode": {
    "name": "ipython",
    "version": 3
   },
   "file_extension": ".py",
   "mimetype": "text/x-python",
   "name": "python",
   "nbconvert_exporter": "python",
   "pygments_lexer": "ipython3",
   "version": "3.11.5"
  }
 },
 "nbformat": 4,
 "nbformat_minor": 5
}
