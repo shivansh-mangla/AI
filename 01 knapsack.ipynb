{
 "cells": [
  {
   "cell_type": "markdown",
   "id": "259f04e5",
   "metadata": {},
   "source": [
    "\n",
    "# 0/1 KNAPSACK"
   ]
  },
  {
   "cell_type": "code",
   "execution_count": 4,
   "id": "517938cc",
   "metadata": {},
   "outputs": [],
   "source": [
    "# format - Name , Weight , Value\n",
    "state = [['A' ,45 ,3],\n",
    "         ['B' ,40 ,5],\n",
    "         ['C' ,50 ,8],\n",
    "         ['D' ,90 ,10]]\n",
    "\n",
    "capacity = 100"
   ]
  },
  {
   "cell_type": "code",
   "execution_count": 28,
   "id": "d5708802",
   "metadata": {},
   "outputs": [],
   "source": [
    "def total_value(item_list,state,max_weight):\n",
    "    i = -1\n",
    "    val = 0\n",
    "    for item in item_list:\n",
    "        i = i+1\n",
    "        if item == 1:\n",
    "            item_weight = state[i][1]\n",
    "            item_val = state[i][2]\n",
    "            if item_weight <= max_weight:\n",
    "                max_weight = max_weight - item_weight\n",
    "                val = val + item_val\n",
    "            else:\n",
    "                return -1\n",
    "    return val\n",
    "\n",
    "def print_items(item_list):\n",
    "    i = -1\n",
    "    for item in item_list:\n",
    "        i = i+1\n",
    "        if item == 1:\n",
    "            print(state[i])"
   ]
  },
  {
   "cell_type": "code",
   "execution_count": 29,
   "id": "8fe68377",
   "metadata": {},
   "outputs": [],
   "source": [
    "def generate_n_bit_lists(n):\n",
    "  \"\"\"\n",
    "  Generates all possible lists of n bits (0 or 1).\n",
    "\n",
    "  Args:\n",
    "      n: The number of bits in each list.\n",
    "\n",
    "  Returns:\n",
    "      A list of lists, where each inner list represents a combination of n bits.\n",
    "  \"\"\"\n",
    "  if n == 0:\n",
    "    return [[]]\n",
    "  bits = [0, 1]\n",
    "  return [[bit] + sublist for bit in bits for sublist in generate_n_bit_lists(n - 1)]"
   ]
  },
  {
   "cell_type": "code",
   "execution_count": 36,
   "id": "996c35d9",
   "metadata": {},
   "outputs": [],
   "source": [
    "def knapsack_brute_force(state , max_weight):\n",
    "    n = len(state) #number of objects\n",
    "    \n",
    "    max_val = 0\n",
    "    final_item_list = []\n",
    "    \n",
    "    item_lists = generate_n_bit_lists(n)\n",
    "    for item_list in item_lists:\n",
    "        val = total_value(item_list,state,max_weight)\n",
    "        if val >= max_val:\n",
    "            max_val = val\n",
    "            final_item_list = item_list\n",
    "            \n",
    "    \n",
    "    print_items(final_item_list)    \n",
    "    print(\"Max value in the knapsack is {}\".format(max_val))"
   ]
  },
  {
   "cell_type": "code",
   "execution_count": 37,
   "id": "7b167bd9",
   "metadata": {},
   "outputs": [
    {
     "name": "stdout",
     "output_type": "stream",
     "text": [
      "['B', 40, 5]\n",
      "['C', 50, 8]\n",
      "Max value in the knapsack is 13\n"
     ]
    }
   ],
   "source": [
    "knapsack_brute_force(state , 100)"
   ]
  },
  {
   "cell_type": "code",
   "execution_count": null,
   "id": "774011ed",
   "metadata": {},
   "outputs": [],
   "source": []
  }
 ],
 "metadata": {
  "kernelspec": {
   "display_name": "Python 3 (ipykernel)",
   "language": "python",
   "name": "python3"
  },
  "language_info": {
   "codemirror_mode": {
    "name": "ipython",
    "version": 3
   },
   "file_extension": ".py",
   "mimetype": "text/x-python",
   "name": "python",
   "nbconvert_exporter": "python",
   "pygments_lexer": "ipython3",
   "version": "3.11.5"
  }
 },
 "nbformat": 4,
 "nbformat_minor": 5
}
