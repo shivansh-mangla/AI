{
  "nbformat": 4,
  "nbformat_minor": 0,
  "metadata": {
    "colab": {
      "provenance": []
    },
    "kernelspec": {
      "name": "python3",
      "display_name": "Python 3"
    },
    "language_info": {
      "name": "python"
    }
  },
  "cells": [
    {
      "cell_type": "markdown",
      "source": [
        "https://www.youtube.com/watch?v=ZDa-Z5JzLYM\n",
        "Link for lesson"
      ],
      "metadata": {
        "id": "D3zBWksNmnXc"
      }
    },
    {
      "cell_type": "markdown",
      "source": [
        "## ASSIGNMENT 1 SUBMITTED BY-\n",
        "## SHIVANSH MANGLA\n",
        "## 102203324\n",
        "## 2CO35"
      ],
      "metadata": {
        "id": "2GDGrYuVLoHy"
      }
    },
    {
      "cell_type": "markdown",
      "source": [
        "A class with 10 students wants to produce some information from the results of the four standard\n",
        "tests in Maths, Science, English and IT. Each test is out of 100 marks. The information output\n",
        "should be the highest, lowest and average mark for each test and the highest, lowest and average\n",
        "mark overall. Write a program in Python to complete this task."
      ],
      "metadata": {
        "id": "L1adjtVZ5pKD"
      }
    },
    {
      "cell_type": "code",
      "source": [
        "Maths = [78, 42, 90, 65, 88, 75, 50, 93, 68, 85]\n",
        "Science = [55, 80, 37, 72, 89, 60, 45, 78, 92, 63]\n",
        "English = [70, 84, 49, 95, 56, 73, 82, 41, 68, 90]\n",
        "IT = [37, 84, 60, 78, 50, 92, 69, 45, 81, 58]\n",
        "\n",
        "Subjects_dict = {\n",
        "    \"Maths\" : Maths,\n",
        "    \"Science\" : Science,\n",
        "    \"English\" : English,\n",
        "    \"IT\" : IT\n",
        "}"
      ],
      "metadata": {
        "id": "kMd_Kh515qa8"
      },
      "execution_count": null,
      "outputs": []
    },
    {
      "cell_type": "code",
      "source": [
        "def averageMarks(Subject):\n",
        "  sum = 0\n",
        "  for i in range(len(Subject)):\n",
        "    sum += Subject[i]\n",
        "\n",
        "  return (sum/len(Subject))"
      ],
      "metadata": {
        "id": "60WGCmaN695N"
      },
      "execution_count": null,
      "outputs": []
    },
    {
      "cell_type": "code",
      "source": [
        "def minMarks(Subject):\n",
        "  min = 100\n",
        "  for i in range(len(Subject)):\n",
        "    if(Subject[i] < min):\n",
        "      min = Subject[i]\n",
        "\n",
        "  return min"
      ],
      "metadata": {
        "id": "1T4krYZV7n9K"
      },
      "execution_count": null,
      "outputs": []
    },
    {
      "cell_type": "code",
      "source": [
        "def maxMarks(Subject):\n",
        "  max = 0\n",
        "  for i in range(len(Subject)):\n",
        "    if(Subject[i] > max):\n",
        "      max = Subject[i]\n",
        "\n",
        "  return max"
      ],
      "metadata": {
        "id": "4rjDwqiq8FtF"
      },
      "execution_count": null,
      "outputs": []
    },
    {
      "cell_type": "code",
      "source": [
        "def stats(Subjects):\n",
        "  for key in list(Subjects.keys()):\n",
        "    print(\"Maximum Marks obtained in {} is {}\".format(key , maxMarks(Subjects[key])))\n",
        "    print(\"Minimum Marks obtained in {} is {}\".format(key , minMarks(Subjects[key])))\n",
        "    print(\"Average Marks obtained in {} is {}\".format(key , averageMarks(Subjects[key])))\n",
        "\n",
        "    print('\\n')"
      ],
      "metadata": {
        "id": "ZvUdfubO6mcK"
      },
      "execution_count": null,
      "outputs": []
    },
    {
      "cell_type": "code",
      "source": [
        "stats(Subjects)"
      ],
      "metadata": {
        "colab": {
          "base_uri": "https://localhost:8080/"
        },
        "id": "G_Q2U1Qh__sT",
        "outputId": "2eb7e7e0-871d-4cf2-b69a-64b85a611e4a"
      },
      "execution_count": null,
      "outputs": [
        {
          "output_type": "stream",
          "name": "stdout",
          "text": [
            "Maximum Marks obtained in Maths is 93\n",
            "Minimum Marks obtained in Maths is 42\n",
            "Average Marks obtained in Maths is 73.4\n",
            "\n",
            "\n",
            "Maximum Marks obtained in Science is 92\n",
            "Minimum Marks obtained in Science is 37\n",
            "Average Marks obtained in Science is 67.1\n",
            "\n",
            "\n",
            "Maximum Marks obtained in English is 95\n",
            "Minimum Marks obtained in English is 41\n",
            "Average Marks obtained in English is 70.8\n",
            "\n",
            "\n",
            "Maximum Marks obtained in IT is 92\n",
            "Minimum Marks obtained in IT is 37\n",
            "Average Marks obtained in IT is 65.4\n",
            "\n",
            "\n"
          ]
        }
      ]
    },
    {
      "cell_type": "markdown",
      "source": [
        "Write a Python Program to input basic salary of an employee and calculate its Gross salary\n",
        "according to following: Basic Salary <= 10000 : HRA = 20%, DA = 80% Basic Salary <= 20000\n",
        ": HRA = 25%, DA = 90% Basic Salary > 20000 : HRA = 30%, DA = 95%"
      ],
      "metadata": {
        "id": "w1-upwx5-KPD"
      }
    },
    {
      "cell_type": "code",
      "source": [
        "BasicSalary , HRA , DA = None , None , None\n",
        "\n",
        "BasicSalary = int(input(\"Enter the basic salary of the employee : \"))\n",
        "\n",
        "if(BasicSalary <= 10000):\n",
        "  HRA = 20\n",
        "  DA = 80\n",
        "elif(BasicSalary>10000 and BasicSalary<=20000):\n",
        "  HRA = 25\n",
        "  DA = 90\n",
        "else:\n",
        "  HRA = 30\n",
        "  DA = 95\n",
        "\n",
        "print(\"Basic Salary is ${} , HRA is {}% , DA is {}%.\".format(BasicSalary,HRA,DA))"
      ],
      "metadata": {
        "colab": {
          "base_uri": "https://localhost:8080/"
        },
        "id": "tUAbh0MW-LBl",
        "outputId": "22b80f74-8219-4c36-9b5a-a06ef9602cbc"
      },
      "execution_count": null,
      "outputs": [
        {
          "output_type": "stream",
          "name": "stdout",
          "text": [
            "Enter the basic salary of the employee : 6577\n",
            "Basic Salary is $6577 , HRA is 20% , DA is 80%.\n"
          ]
        }
      ]
    },
    {
      "cell_type": "markdown",
      "source": [
        "Write a Python program to check the validity of password input by users.\n",
        "Validation:\n",
        "* At least 1 letter between [a-z] and 1 letter between [A-Z].\n",
        "* At least 1 number between [0-9].\n",
        "* At least 1 character from [$#@].\n",
        "* Minimum length 6 characters.\n",
        "* Maximum length 16 characters.\n",
        "\n"
      ],
      "metadata": {
        "id": "0JiITkiZE5Qd"
      }
    },
    {
      "cell_type": "code",
      "source": [
        "def checkValidPss(pwd):\n",
        "  test1 , test2 , test3 , test4 , test5 = False,False,False,False,False\n",
        "\n",
        "  if(any(char.islower() for char in pwd) and any(char.isupper() for char in pwd)):\n",
        "    test1 = True\n",
        "\n",
        "  if(any(char.isdigit() for char in pwd)):\n",
        "    test2 = True\n",
        "\n",
        "  if(any(char in ['$','#','@'] for char in pwd)):\n",
        "    test3 = True\n",
        "\n",
        "  if(len(pwd) >= 6):\n",
        "    test4 = True\n",
        "\n",
        "  if(len(pwd) <= 16):\n",
        "    test5 = True\n",
        "\n",
        "\n",
        "  if(test1 and test2 and test3 and test4 and test5):\n",
        "    print(\"{} is a valid password\".format(pwd))\n",
        "  else:\n",
        "    print(\"Please meet the following requirement(s) : \\n\")\n",
        "    if(not test1):\n",
        "      print(\"At least 1 letter between [a-z] and 1 letter between [A-Z]\")\n",
        "    if(not test2):\n",
        "      print(\"At least 1 number between [0-9]\")\n",
        "    if(not test3):\n",
        "      print(\"At least 1 character from [$#@]\")\n",
        "    if(not test4):\n",
        "      print(\"Minimum length 6 characters\")\n",
        "    if(not test5):\n",
        "      print(\"Maximum length 16 characters\")"
      ],
      "metadata": {
        "id": "lWDqyMPlFoOp"
      },
      "execution_count": null,
      "outputs": []
    },
    {
      "cell_type": "code",
      "source": [
        "password = str(input(\"Enter Password : \"))\n",
        "\n",
        "checkValidPss(password)"
      ],
      "metadata": {
        "colab": {
          "base_uri": "https://localhost:8080/"
        },
        "id": "3EPUcMGhBkGc",
        "outputId": "622ee258-8311-4b96-b79a-afa3db577d48"
      },
      "execution_count": null,
      "outputs": [
        {
          "output_type": "stream",
          "name": "stdout",
          "text": [
            "Enter Password : jbhfwfNJU8$\n",
            "jbhfwfNJU8$ is a valid password\n"
          ]
        }
      ]
    },
    {
      "cell_type": "markdown",
      "source": [
        "Create a List L that is defined as= [10, 20, 30, 40, 50, 60, 70, 80].\n",
        "(i) WAP to add 200 and 300 to L.\n",
        "(ii) WAP to remove 10 and 30 from L.\n",
        "(iii) WAP to sort L in ascending order.\n",
        "(iv) WAP to sort L in descending order.\n"
      ],
      "metadata": {
        "id": "hSzmsEjmf-mT"
      }
    },
    {
      "cell_type": "code",
      "source": [
        "L = [10,20,30,40,50,60,70,80]"
      ],
      "metadata": {
        "id": "yFs59k37lU_O"
      },
      "execution_count": null,
      "outputs": []
    },
    {
      "cell_type": "code",
      "source": [
        "L.append(200)\n",
        "L.append(300)\n",
        "L"
      ],
      "metadata": {
        "colab": {
          "base_uri": "https://localhost:8080/"
        },
        "id": "8oquFEwLgFoL",
        "outputId": "49f613f8-e57e-48f5-ec3e-978fbd53987c"
      },
      "execution_count": null,
      "outputs": [
        {
          "output_type": "execute_result",
          "data": {
            "text/plain": [
              "[10, 20, 30, 40, 50, 60, 70, 80, 200, 300]"
            ]
          },
          "metadata": {},
          "execution_count": 8
        }
      ]
    },
    {
      "cell_type": "code",
      "source": [
        "L.remove(10)\n",
        "L.remove(20)\n",
        "L"
      ],
      "metadata": {
        "colab": {
          "base_uri": "https://localhost:8080/"
        },
        "id": "70LVKbFEgPEn",
        "outputId": "7019fb00-d47f-4716-a392-48c2a78292ab"
      },
      "execution_count": null,
      "outputs": [
        {
          "output_type": "execute_result",
          "data": {
            "text/plain": [
              "[30, 40, 50, 60, 70, 80, 200, 300]"
            ]
          },
          "metadata": {},
          "execution_count": 9
        }
      ]
    },
    {
      "cell_type": "code",
      "source": [
        "L.sort()\n",
        "L"
      ],
      "metadata": {
        "colab": {
          "base_uri": "https://localhost:8080/"
        },
        "id": "lF2Ja26Mg4Dy",
        "outputId": "61581224-a820-4a52-ccca-7c34bf92a6ef"
      },
      "execution_count": null,
      "outputs": [
        {
          "output_type": "execute_result",
          "data": {
            "text/plain": [
              "[30, 40, 50, 60, 70, 80, 200, 300]"
            ]
          },
          "metadata": {},
          "execution_count": 11
        }
      ]
    },
    {
      "cell_type": "code",
      "source": [
        "class Restaurant:\n",
        "  tax_percent = 18\n",
        "  no_of_restaurants = 0\n",
        "\n",
        "  def __init__(self,name,cousine):\n",
        "    self.restaurant_name = name\n",
        "    self.cuisine_type = cousine\n",
        "    Restaurant.no_of_restaurants += 1\n",
        "\n",
        "  def describe_restaurant(self):\n",
        "      print(\"{} is a prestigious restaurant that serves {} cousine.\".format(self.restaurant_name , self.cuisine_type))\n",
        "\n",
        "  def open_restaurant(self):\n",
        "    print(\"{} is open for orders now!!\".format(self.restaurant_name))\n",
        "\n",
        "  def change_cousine(self,new_cuisine):\n",
        "    self.cuisine_type = new_cuisine\n",
        "\n",
        "  def get_no_of_restaurants(self):\n",
        "    print(\"There are total {} restaurants registered.\".format(Restaurant.no_of_restaurants))\n",
        "\n",
        "  @classmethod\n",
        "  def change_tax(cls,new_tax):\n",
        "    cls.tax_percent = new_tax\n",
        "    print(\"Updated the tax of all restaurants as {}%\".format(cls.tax_percent))\n"
      ],
      "metadata": {
        "id": "yN5N15hMhsrr"
      },
      "execution_count": null,
      "outputs": []
    },
    {
      "cell_type": "code",
      "source": [
        "restaurant1 = Restaurant(\"Punjabi Angithi\",\"North Indian\")\n",
        "\n",
        "#Restaurant.describe_restaurant(restaurant1)\n",
        "#same as-\n",
        "restaurant1.describe_restaurant()\n",
        "restaurant1.open_restaurant()\n",
        "restaurant1.get_no_of_restaurants()"
      ],
      "metadata": {
        "id": "YuGFUWJF5aAQ",
        "colab": {
          "base_uri": "https://localhost:8080/"
        },
        "outputId": "59f3710c-918e-48e6-f90f-b92c67f5acd4"
      },
      "execution_count": null,
      "outputs": [
        {
          "output_type": "stream",
          "name": "stdout",
          "text": [
            "Punjabi Angithi is a prestigious restaurant that serves North Indian cousine.\n",
            "Punjabi Angithi is open for orders now!!\n",
            "There are total 1 restaurants registered.\n"
          ]
        }
      ]
    },
    {
      "cell_type": "code",
      "source": [
        "d = {1:\"one\" , 2:\"two\" , 3:\"three\" , 4:\"four\"}\n",
        "d.update({6:\"six\"})  # adding the value\n",
        "print(d)\n",
        "d.pop(1) # removing the value corresponding to key 1\n",
        "print(d)\n",
        "\n",
        "if(2 in d.keys()):\n",
        "  print(\"2 is in dictionary\")\n",
        "else:\n",
        "  print(\"2 is not in the dictionary\")"
      ],
      "metadata": {
        "id": "_OcPtjFJluRQ",
        "colab": {
          "base_uri": "https://localhost:8080/"
        },
        "outputId": "c0cbca36-a8f0-4544-cb00-5ccb6ef5bda9"
      },
      "execution_count": 1,
      "outputs": [
        {
          "output_type": "stream",
          "name": "stdout",
          "text": [
            "{1: 'one', 2: 'two', 3: 'three', 4: 'four', 6: 'six'}\n",
            "{2: 'two', 3: 'three', 4: 'four', 6: 'six'}\n",
            "2 is in dictionary\n"
          ]
        }
      ]
    },
    {
      "cell_type": "code",
      "source": [
        "dict_class = {3018 : \"Nishant\" , 3700 : \"Avisek\" , 3552 : \"Achintya\" , 3071 : \"Yash\"}\n",
        "print(dict_class)\n",
        "\n",
        "dict_class.pop(3071)\n",
        "\n",
        "if(1700 in dict_class.keys()):\n",
        "  print(\"1700 is in dictionary\")"
      ],
      "metadata": {
        "colab": {
          "base_uri": "https://localhost:8080/"
        },
        "id": "GkbbSs7RLFqp",
        "outputId": "35daa509-af1a-4ec0-f2eb-dd20627a30f1"
      },
      "execution_count": null,
      "outputs": [
        {
          "output_type": "stream",
          "name": "stdout",
          "text": [
            "{3018: 'Nishant', 3700: 'Avisek', 3552: 'Achintya', 3071: 'Yash'}\n"
          ]
        }
      ]
    },
    {
      "cell_type": "code",
      "source": [
        "import random\n",
        "l = [random.randint(100,900) for _ in range(100) ]\n",
        "print(l)\n",
        "odd = []\n",
        "even = []\n",
        "\n",
        "def prime(n):\n",
        "  for i in range(2,n):\n",
        "    if(n%i == 0):\n",
        "      print(str(n) + \" is not a prime number\")\n",
        "      return;\n",
        "\n",
        "  print(str(n) + \" is a prime number\")\n",
        "\n",
        "for i in range(100):\n",
        "  prime(l[i])"
      ],
      "metadata": {
        "colab": {
          "base_uri": "https://localhost:8080/"
        },
        "id": "BUoBGPXwMFIa",
        "outputId": "2f48ba95-0f7d-4b06-e3e0-054530125eae"
      },
      "execution_count": null,
      "outputs": [
        {
          "output_type": "stream",
          "name": "stdout",
          "text": [
            "[739, 874, 183, 292, 736, 735, 593, 665, 232, 337, 442, 821, 743, 789, 788, 576, 661, 854, 740, 430, 121, 650, 517, 589, 835, 201, 734, 403, 101, 506, 403, 300, 581, 527, 533, 497, 127, 504, 410, 138, 445, 467, 195, 390, 566, 577, 751, 784, 826, 889, 877, 486, 768, 372, 652, 855, 411, 634, 655, 486, 682, 656, 239, 410, 428, 812, 163, 642, 115, 387, 780, 362, 244, 289, 818, 430, 425, 729, 330, 872, 621, 380, 879, 526, 180, 794, 386, 541, 275, 262, 365, 238, 887, 707, 140, 737, 816, 428, 332, 277]\n",
            "739 is a prime number\n",
            "874 is not a prime number\n",
            "183 is not a prime number\n",
            "292 is not a prime number\n",
            "736 is not a prime number\n",
            "735 is not a prime number\n",
            "593 is a prime number\n",
            "665 is not a prime number\n",
            "232 is not a prime number\n",
            "337 is a prime number\n",
            "442 is not a prime number\n",
            "821 is a prime number\n",
            "743 is a prime number\n",
            "789 is not a prime number\n",
            "788 is not a prime number\n",
            "576 is not a prime number\n",
            "661 is a prime number\n",
            "854 is not a prime number\n",
            "740 is not a prime number\n",
            "430 is not a prime number\n",
            "121 is not a prime number\n",
            "650 is not a prime number\n",
            "517 is not a prime number\n",
            "589 is not a prime number\n",
            "835 is not a prime number\n",
            "201 is not a prime number\n",
            "734 is not a prime number\n",
            "403 is not a prime number\n",
            "101 is a prime number\n",
            "506 is not a prime number\n",
            "403 is not a prime number\n",
            "300 is not a prime number\n",
            "581 is not a prime number\n",
            "527 is not a prime number\n",
            "533 is not a prime number\n",
            "497 is not a prime number\n",
            "127 is a prime number\n",
            "504 is not a prime number\n",
            "410 is not a prime number\n",
            "138 is not a prime number\n",
            "445 is not a prime number\n",
            "467 is a prime number\n",
            "195 is not a prime number\n",
            "390 is not a prime number\n",
            "566 is not a prime number\n",
            "577 is a prime number\n",
            "751 is a prime number\n",
            "784 is not a prime number\n",
            "826 is not a prime number\n",
            "889 is not a prime number\n",
            "877 is a prime number\n",
            "486 is not a prime number\n",
            "768 is not a prime number\n",
            "372 is not a prime number\n",
            "652 is not a prime number\n",
            "855 is not a prime number\n",
            "411 is not a prime number\n",
            "634 is not a prime number\n",
            "655 is not a prime number\n",
            "486 is not a prime number\n",
            "682 is not a prime number\n",
            "656 is not a prime number\n",
            "239 is a prime number\n",
            "410 is not a prime number\n",
            "428 is not a prime number\n",
            "812 is not a prime number\n",
            "163 is a prime number\n",
            "642 is not a prime number\n",
            "115 is not a prime number\n",
            "387 is not a prime number\n",
            "780 is not a prime number\n",
            "362 is not a prime number\n",
            "244 is not a prime number\n",
            "289 is not a prime number\n",
            "818 is not a prime number\n",
            "430 is not a prime number\n",
            "425 is not a prime number\n",
            "729 is not a prime number\n",
            "330 is not a prime number\n",
            "872 is not a prime number\n",
            "621 is not a prime number\n",
            "380 is not a prime number\n",
            "879 is not a prime number\n",
            "526 is not a prime number\n",
            "180 is not a prime number\n",
            "794 is not a prime number\n",
            "386 is not a prime number\n",
            "541 is a prime number\n",
            "275 is not a prime number\n",
            "262 is not a prime number\n",
            "365 is not a prime number\n",
            "238 is not a prime number\n",
            "887 is a prime number\n",
            "707 is not a prime number\n",
            "140 is not a prime number\n",
            "737 is not a prime number\n",
            "816 is not a prime number\n",
            "428 is not a prime number\n",
            "332 is not a prime number\n",
            "277 is a prime number\n"
          ]
        }
      ]
    },
    {
      "cell_type": "code",
      "source": [],
      "metadata": {
        "id": "RKP6pseaNTmg"
      },
      "execution_count": null,
      "outputs": []
    }
  ]
}